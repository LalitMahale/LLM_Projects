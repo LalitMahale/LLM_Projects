{
 "cells": [
  {
   "cell_type": "raw",
   "id": "6596e4d9-6cf3-461a-98a4-39741c05f11b",
   "metadata": {},
   "source": [
    "https://medium.com/@aishweta/breaking-down-text-exploring-multiple-chunking-methods-forrag-and-llm-bab1e6e9bcd8"
   ]
  },
  {
   "cell_type": "code",
   "execution_count": 2,
   "id": "c1c584e3-fe28-4796-813b-806e86daf9e0",
   "metadata": {},
   "outputs": [
    {
     "data": {
      "text/plain": [
       "True"
      ]
     },
     "execution_count": 2,
     "metadata": {},
     "output_type": "execute_result"
    }
   ],
   "source": [
    "import os\n",
    "from dotenv import load_dotenv\n",
    "load_dotenv()"
   ]
  },
  {
   "cell_type": "code",
   "execution_count": 3,
   "id": "2f3d8a4f-d8b2-468c-9567-07c81f51d069",
   "metadata": {},
   "outputs": [],
   "source": [
    "API_KEY = os.getenv(\"GOOGLE_GEMINI_API\")"
   ]
  },
  {
   "cell_type": "code",
   "execution_count": null,
   "id": "baf8c0f4-aa88-4f3c-b7a5-b0af736e7bc0",
   "metadata": {},
   "outputs": [],
   "source": []
  }
 ],
 "metadata": {
  "kernelspec": {
   "display_name": "Python 3 (ipykernel)",
   "language": "python",
   "name": "python3"
  },
  "language_info": {
   "codemirror_mode": {
    "name": "ipython",
    "version": 3
   },
   "file_extension": ".py",
   "mimetype": "text/x-python",
   "name": "python",
   "nbconvert_exporter": "python",
   "pygments_lexer": "ipython3",
   "version": "3.12.2"
  }
 },
 "nbformat": 4,
 "nbformat_minor": 5
}
