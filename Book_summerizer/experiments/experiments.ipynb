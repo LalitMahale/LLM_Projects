{
 "cells": [
  {
   "cell_type": "raw",
   "id": "6596e4d9-6cf3-461a-98a4-39741c05f11b",
   "metadata": {},
   "source": [
    "https://medium.com/@aishweta/breaking-down-text-exploring-multiple-chunking-methods-forrag-and-llm-bab1e6e9bcd8"
   ]
  },
  {
   "cell_type": "code",
   "execution_count": 1,
   "id": "8bacdd0b-faff-442c-a0cc-d1cccd6c5007",
   "metadata": {},
   "outputs": [
    {
     "data": {
      "text/plain": [
       "True"
      ]
     },
     "execution_count": 1,
     "metadata": {},
     "output_type": "execute_result"
    }
   ],
   "source": [
    "import os\n",
    "from dotenv import load_dotenv\n",
    "load_dotenv()"
   ]
  },
  {
   "cell_type": "code",
   "execution_count": 5,
   "id": "b66d9788-a47b-4226-b935-59467ec0d627",
   "metadata": {},
   "outputs": [],
   "source": [
    "# Bacis summerization"
   ]
  },
  {
   "cell_type": "code",
   "execution_count": 6,
   "id": "cf850772-5669-49b2-8c51-ac448135195c",
   "metadata": {},
   "outputs": [],
   "source": [
    "from langchain_google_genai import GoogleGenerativeAI,ChatGoogleGenerativeAI\n",
    "from langchain.schema import (\n",
    "                                AIMessage, #  llm response\n",
    "                                HumanMessage, # Human massege\n",
    "                                SystemMessage) # kind of role we assigne to llm"
   ]
  },
  {
   "cell_type": "code",
   "execution_count": 8,
   "id": "8c39df7d-5f2c-428a-bf74-4b0c4442505a",
   "metadata": {},
   "outputs": [],
   "source": [
    "speech = \"\""
   ]
  },
  {
   "cell_type": "code",
   "execution_count": 9,
   "id": "733fbad0-72dd-4487-97fb-b8deeb08f496",
   "metadata": {},
   "outputs": [],
   "source": [
    "# set the defalt values \n",
    "chat_message = [\n",
    "    SystemMessage(content=\"You are the expert assistant with expertize in summerization speeches.\"),\n",
    "    HumanMessage(content=f\"Please provide a short and concise summary of the following speecch : \\n Speech ={speech}\")\n",
    "]"
   ]
  },
  {
   "cell_type": "code",
   "execution_count": 18,
   "id": "d061ed96-1d07-4125-b8fc-0fe22d6e40ef",
   "metadata": {},
   "outputs": [],
   "source": [
    "llm = ChatGoogleGenerativeAI(model=\"gemini-pro\", temperature=0.6, google_api_key=os.getenv(\"GOOGLE_GEMINI_API\"),convert_system_message_to_human=True)"
   ]
  },
  {
   "cell_type": "code",
   "execution_count": 19,
   "id": "29343e89-6006-41a0-9054-378d3770f16b",
   "metadata": {},
   "outputs": [
    {
     "data": {
      "text/plain": [
       "AIMessage(content=\"**Speech Summary:**\\n\\nThe speech emphasizes the importance of resilience and adaptability in the face of life's inevitable challenges. It encourages individuals to embrace change, learn from setbacks, and cultivate a positive mindset. Resilience is presented as a key to overcoming adversity, achieving goals, and living a fulfilling life. By embracing resilience, individuals can navigate difficult times, adapt to changing circumstances, and emerge stronger from challenges.\", response_metadata={'prompt_feedback': {'block_reason': 0, 'safety_ratings': []}, 'finish_reason': 'STOP', 'safety_ratings': [{'category': 'HARM_CATEGORY_SEXUALLY_EXPLICIT', 'probability': 'NEGLIGIBLE', 'blocked': False}, {'category': 'HARM_CATEGORY_HATE_SPEECH', 'probability': 'NEGLIGIBLE', 'blocked': False}, {'category': 'HARM_CATEGORY_HARASSMENT', 'probability': 'NEGLIGIBLE', 'blocked': False}, {'category': 'HARM_CATEGORY_DANGEROUS_CONTENT', 'probability': 'NEGLIGIBLE', 'blocked': False}]}, id='run-9f0feebd-cded-4162-bdf2-4f540b7f2264-0')"
      ]
     },
     "execution_count": 19,
     "metadata": {},
     "output_type": "execute_result"
    }
   ],
   "source": [
    "llm(chat_message)"
   ]
  },
  {
   "cell_type": "code",
   "execution_count": null,
   "id": "15206be7-9c17-41c7-bdff-40be1148ca50",
   "metadata": {},
   "outputs": [],
   "source": [
    "https://www.youtube.com/watch?v=o11J4oO-P28&t=129s"
   ]
  },
  {
   "cell_type": "code",
   "execution_count": null,
   "id": "58150864-e6c1-4c23-9a3a-59be0e18fba6",
   "metadata": {},
   "outputs": [],
   "source": []
  }
 ],
 "metadata": {
  "kernelspec": {
   "display_name": "Python 3 (ipykernel)",
   "language": "python",
   "name": "python3"
  },
  "language_info": {
   "codemirror_mode": {
    "name": "ipython",
    "version": 3
   },
   "file_extension": ".py",
   "mimetype": "text/x-python",
   "name": "python",
   "nbconvert_exporter": "python",
   "pygments_lexer": "ipython3",
   "version": "3.12.2"
  }
 },
 "nbformat": 4,
 "nbformat_minor": 5
}
