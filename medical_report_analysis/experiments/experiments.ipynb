{
 "cells": [
  {
   "cell_type": "code",
   "execution_count": 15,
   "id": "29a74525",
   "metadata": {},
   "outputs": [],
   "source": [
    "# source of report https://drlogy.com/blog/blood-report-format#:~:text=Blood%20Report%20Format%20Examples%20&%20PDF.%2010%20Key%20Blood%20Report\n",
    "\n",
    "# https://cdn1.lalpathlabs.com/live/reports/WM17S.pdf#:~:text=Test%20Report%20Test%20Name%20Results%20Units%20Bio.%20Ref.%20Interval%20Note"
   ]
  },
  {
   "cell_type": "code",
   "execution_count": 7,
   "id": "43459717",
   "metadata": {},
   "outputs": [
    {
     "data": {
      "text/plain": [
       "True"
      ]
     },
     "execution_count": 7,
     "metadata": {},
     "output_type": "execute_result"
    }
   ],
   "source": [
    "import os\n",
    "import google.generativeai as genai\n",
    "from PIL import Image\n",
    "from dotenv import load_dotenv\n",
    "load_dotenv()"
   ]
  },
  {
   "cell_type": "code",
   "execution_count": 10,
   "id": "6dfa4e73",
   "metadata": {},
   "outputs": [],
   "source": [
    "genai.configure(api_key=\"\",)\n",
    "model = genai.GenerativeModel(model_name=\"gemini-1.5-pro-001\")"
   ]
  },
  {
   "cell_type": "code",
   "execution_count": 11,
   "id": "7158c158",
   "metadata": {},
   "outputs": [],
   "source": [
    "input_prompt=\"\"\"\n",
    "You are an expert in understanding Pictures. We will upload a a image \n",
    "and you will have to answer any questions based on the uploaded image\n",
    "\"\"\"\n",
    "file = r\"C:\\Users\\lalit\\Downloads\\4a79b38b-5cb2-4c87-b4f9-7c18fd615711.jpg\"\n",
    "image = Image.open(file)\n",
    "query = \"what is in this image\""
   ]
  },
  {
   "cell_type": "code",
   "execution_count": 12,
   "id": "1745bbb7",
   "metadata": {},
   "outputs": [],
   "source": [
    "response = model.generate_content([query,image,input_prompt])\n"
   ]
  },
  {
   "cell_type": "code",
   "execution_count": 13,
   "id": "c8e47f1f",
   "metadata": {},
   "outputs": [
    {
     "data": {
      "text/plain": [
       "response:\n",
       "GenerateContentResponse(\n",
       "    done=True,\n",
       "    iterator=None,\n",
       "    result=protos.GenerateContentResponse({\n",
       "      \"candidates\": [\n",
       "        {\n",
       "          \"content\": {\n",
       "            \"parts\": [\n",
       "              {\n",
       "                \"text\": \"The image shows a variety of South Indian breakfast dishes served on banana leaves. \\n\\nHere's what we can see:\\n\\n* **Two Masala Dosas:** These are the large, thin, crispy crepes rolled up. They are made from rice and lentil batter and usually filled with a spiced potato mixture.\\n* **One Uttapam:** This is the thick pancake-like dish with toppings. It is also made from rice and lentil batter, but cooked thicker than a dosa. The toppings can vary, but often include vegetables, onions, and chilies.\\n* **One order of Idli and Vada with Sambar:** This is the plate with two white, steamed rice cakes (idli), two lentil doughnuts (vada), and a bowl of sambar (a lentil-based vegetable stew). \\n* **One Parotta with Curry:** This is the layered flatbread (parotta) served with a side of vegetable curry. \\n\\nThere are also small bowls of coconut chutney (white) and sambar (yellow) served with the dishes.  \\n\"\n",
       "              }\n",
       "            ],\n",
       "            \"role\": \"model\"\n",
       "          },\n",
       "          \"finish_reason\": \"STOP\",\n",
       "          \"index\": 0,\n",
       "          \"safety_ratings\": [\n",
       "            {\n",
       "              \"category\": \"HARM_CATEGORY_SEXUALLY_EXPLICIT\",\n",
       "              \"probability\": \"NEGLIGIBLE\"\n",
       "            },\n",
       "            {\n",
       "              \"category\": \"HARM_CATEGORY_HATE_SPEECH\",\n",
       "              \"probability\": \"NEGLIGIBLE\"\n",
       "            },\n",
       "            {\n",
       "              \"category\": \"HARM_CATEGORY_HARASSMENT\",\n",
       "              \"probability\": \"NEGLIGIBLE\"\n",
       "            },\n",
       "            {\n",
       "              \"category\": \"HARM_CATEGORY_DANGEROUS_CONTENT\",\n",
       "              \"probability\": \"NEGLIGIBLE\"\n",
       "            }\n",
       "          ]\n",
       "        }\n",
       "      ],\n",
       "      \"usage_metadata\": {\n",
       "        \"prompt_token_count\": 295,\n",
       "        \"candidates_token_count\": 216,\n",
       "        \"total_token_count\": 511\n",
       "      }\n",
       "    }),\n",
       ")"
      ]
     },
     "execution_count": 13,
     "metadata": {},
     "output_type": "execute_result"
    }
   ],
   "source": [
    "response"
   ]
  },
  {
   "cell_type": "code",
   "execution_count": null,
   "id": "8f5e06f3",
   "metadata": {},
   "outputs": [],
   "source": []
  }
 ],
 "metadata": {
  "kernelspec": {
   "display_name": "Python 3 (ipykernel)",
   "language": "python",
   "name": "python3"
  },
  "language_info": {
   "codemirror_mode": {
    "name": "ipython",
    "version": 3
   },
   "file_extension": ".py",
   "mimetype": "text/x-python",
   "name": "python",
   "nbconvert_exporter": "python",
   "pygments_lexer": "ipython3",
   "version": "3.12.4"
  }
 },
 "nbformat": 4,
 "nbformat_minor": 5
}
