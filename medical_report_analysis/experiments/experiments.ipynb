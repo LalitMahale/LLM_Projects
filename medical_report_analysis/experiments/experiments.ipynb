{
 "cells": [
  {
   "cell_type": "code",
   "execution_count": 15,
   "id": "41ebab0e",
   "metadata": {},
   "outputs": [],
   "source": [
    "# source of report https://drlogy.com/blog/blood-report-format#:~:text=Blood%20Report%20Format%20Examples%20&%20PDF.%2010%20Key%20Blood%20Report\n",
    "\n",
    "# https://cdn1.lalpathlabs.com/live/reports/WM17S.pdf#:~:text=Test%20Report%20Test%20Name%20Results%20Units%20Bio.%20Ref.%20Interval%20Note"
   ]
  },
  {
   "cell_type": "code",
   "execution_count": 1,
   "id": "59882e5a",
   "metadata": {},
   "outputs": [
    {
     "name": "stderr",
     "output_type": "stream",
     "text": [
      "C:\\Users\\lalit\\anaconda3\\envs\\gen_ai\\Lib\\site-packages\\tqdm\\auto.py:21: TqdmWarning: IProgress not found. Please update jupyter and ipywidgets. See https://ipywidgets.readthedocs.io/en/stable/user_install.html\n",
      "  from .autonotebook import tqdm as notebook_tqdm\n"
     ]
    },
    {
     "data": {
      "text/plain": [
       "True"
      ]
     },
     "execution_count": 1,
     "metadata": {},
     "output_type": "execute_result"
    }
   ],
   "source": [
    "import os\n",
    "import google.generativeai as genai\n",
    "from PIL import Image\n",
    "from dotenv import load_dotenv\n",
    "load_dotenv()"
   ]
  },
  {
   "cell_type": "raw",
   "id": "862043e2",
   "metadata": {},
   "source": [
    "genai.configure(api_key=os.getenv(\"GOOGLE_API_KEY\"))\n",
    "model = genai.GenerativeModel(model_name=\"gemini-1.5-pro-001\")"
   ]
  },
  {
   "cell_type": "raw",
   "id": "f17c7abe",
   "metadata": {},
   "source": [
    "pip install Pymupdf"
   ]
  },
  {
   "cell_type": "code",
   "execution_count": 1,
   "id": "03d20254",
   "metadata": {
    "scrolled": true
   },
   "outputs": [
    {
     "name": "stdout",
     "output_type": "stream",
     "text": [
      "C:\\Users\\lalit\\Desktop\\LLMProject\\LLM_projects\\medical_report_analysis\n"
     ]
    },
    {
     "name": "stderr",
     "output_type": "stream",
     "text": [
      "C:\\Users\\lalit\\anaconda3\\envs\\gen_ai\\Lib\\site-packages\\IPython\\core\\magics\\osm.py:417: UserWarning: This is now an optional IPython functionality, setting dhist requires you to install the `pickleshare` library.\n",
      "  self.shell.db['dhist'] = compress_dhist(dhist)[-100:]\n"
     ]
    }
   ],
   "source": [
    "%cd .."
   ]
  },
  {
   "cell_type": "code",
   "execution_count": 2,
   "id": "431075e6",
   "metadata": {},
   "outputs": [
    {
     "name": "stderr",
     "output_type": "stream",
     "text": [
      "C:\\Users\\lalit\\anaconda3\\envs\\gen_ai\\Lib\\site-packages\\tqdm\\auto.py:21: TqdmWarning: IProgress not found. Please update jupyter and ipywidgets. See https://ipywidgets.readthedocs.io/en/stable/user_install.html\n",
      "  from .autonotebook import tqdm as notebook_tqdm\n"
     ]
    }
   ],
   "source": [
    "from src.document import PDF_Processing\n",
    "from src.pipeline import LLM\n"
   ]
  },
  {
   "cell_type": "code",
   "execution_count": 3,
   "id": "00512edc",
   "metadata": {},
   "outputs": [],
   "source": [
    "filepath = \"test_images/WM17S.pdf\"\n",
    "image = PDF_Processing.pdf_to_image(file=filepath)"
   ]
  },
  {
   "cell_type": "code",
   "execution_count": 7,
   "id": "49885525",
   "metadata": {},
   "outputs": [],
   "source": [
    "input_prompt=\"\"\"\n",
    "You are an expert in understanding Images. You will get Medical reports so you have to extract all text from image.\n",
    "\"\"\"\n",
    "file = r\"C:\\Users\\lalit\\Downloads\\4a79b38b-5cb2-4c87-b4f9-7c18fd615711.jpg\"\n",
    "# image = Image.open(file)\n",
    "query = \"\"\n",
    "# \"\"\"\n",
    "# Understand the text extracted from Image and Give the report in Json format :\\n \n",
    "\n",
    "# \"\"\"\n",
    "\n",
    "# response = model.generate_content([query,image,input_prompt])\n",
    "\n",
    "res = LLM().gemini_vision_llm([query,image,input_prompt])\n"
   ]
  },
  {
   "cell_type": "code",
   "execution_count": 8,
   "id": "4b9c13c7",
   "metadata": {},
   "outputs": [
    {
     "data": {
      "text/plain": [
       "'Dr Lal PathLabs\\nRegd. Office/National Reference Lab: Dr Lal PathLabs Ltd., Block-E, Sector-18, Rohini, New Delhi - 110085\\nWeb: www.lalpathlabs.com, CIN No.: L74899DL1995PLC065388\\nName : DUMMY\\nLab No. : 439854467\\nRef By = U\\nCollected : 14/5/2023 11:03:00AM\\nA/c Status : P\\nCollected at : LPL-ROHINI (NATIONAL REFERENCE LAB)\\nNational Reference laboratory, Block E, Sector\\n18, ROHINI\\nDELHI 110085\\nAge : 30 Years\\nGender : Male\\nReported : 16/5/2023 1:36:25PM\\nReport Status : Final\\nProcessed at : LPL-NATIONAL REFERENCE LAB\\nNational Reference laboratory, Block E,\\nSector 18, Rohini, New Delhi -110085\\nTest Report\\nTest Name Results Units Bio. Ref. Interval\\nSwasthFit Super 4\\nCOMPLETE BLOOD COUNT;CBC\\nHemoglobin 15.00 g/dL 13.00 - 17.00\\n(Photometry)\\nPacked Cell Volume (PCV) 45.00 % 40.00 - 50.00\\n(Calculated)\\nRBC Count 4.50 mill/mm3 4.50 - 5.50\\n(Electrical Impedence)\\nMCV 90.00 fL 83.00 - 101.00\\n(Electrical Impedence)\\nMCH 32.00 pg 27.00 - 32.00\\n(Calculated)\\nMCHC 33.00 g/dL 31.50 - 34.50\\n(Calculated)\\nRed Cell Distribution Width (RDW) 14.00 % 11.60 - 14.00\\n(Electrical Impedence)\\nTotal Leukocyte Count (TLC) 8.00 thou/mm3 4.00 - 10.00\\n(Electrical Impedence)\\nDifferential Leucocyte Count (DLC)\\n(VCS Technology)\\nSegmented Neutrophils 60.00 % 40.00 - 80.00\\nLymphocytes 30.00 % 20.00 - 40.00\\nMonocytes 5.00 % 2.00 - 10.00\\nEosinophils 5.00 % 1.00 - 6.00\\nBasophils 0.00 % <2.00\\nAbsolute Leucocyte Count\\n(Calculated)\\nNeutrophils 4.80 thou/mm3 2.00 - 7.00\\nLymphocytes 2.40 thou/mm3 1.00 - 3.00\\nMonocytes 0.40 thou/mm3 0.20 - 1.00\\nEosinophils 0.40 thou/mm3 0.02 - 0.50\\nBasophils 0.00 thou/mm3 0.02 - 0.10\\nPlatelet Count 200 thou/mm3 150.00 - 410.00\\n(Electrical Impedence)\\nMean Platelet Volume 10.0 fL 6.5 - 12.0\\n(Electrical Impedence)\\nPage 1 of 10\\nIf Test results are alarming or unexpected, client is advised to contact the Customer Care\\nimmediately for possible remedial action.\\nTel: +91-11-3988-5050, E-mail: lalpathlabs@lalpathlabs.com\\n'"
      ]
     },
     "execution_count": 8,
     "metadata": {},
     "output_type": "execute_result"
    }
   ],
   "source": [
    "res"
   ]
  },
  {
   "cell_type": "code",
   "execution_count": 5,
   "id": "7b475625",
   "metadata": {},
   "outputs": [
    {
     "data": {
      "text/plain": [
       "{'Name': 'DUMMY',\n",
       " 'Lab No.': '439854467',\n",
       " 'Ref By': 'U',\n",
       " 'Collected': '14/5/2023 11:03:00AM',\n",
       " 'A/c Status': 'P',\n",
       " 'Collected at': 'LPL-ROHINI (NATIONAL REFERENCE LAB)\\nNational Reference laboratory, Block E, Sector\\n18, ROHINI\\nDELHI 110085',\n",
       " 'Age': '30 Years',\n",
       " 'Gender': 'Male',\n",
       " 'Reported': '16/5/2023 1:36:25PM',\n",
       " 'Report Status': 'Final',\n",
       " 'Processed at': 'LPL-NATIONAL REFERENCE LAB\\nNational Reference laboratory, Block E,\\nSector 18, Rohini, New Delhi -110085',\n",
       " 'Test Report': [{'Test Name': 'SwasthFit Super 4',\n",
       "   'Results': [],\n",
       "   'Units': [],\n",
       "   'Bio. Ref. Interval': []},\n",
       "  {'Test Name': 'COMPLETE BLOOD COUNT;CBC',\n",
       "   'Results': ['15.00',\n",
       "    '45.00',\n",
       "    '4.50',\n",
       "    '90.00',\n",
       "    '32.00',\n",
       "    '33.00',\n",
       "    '14.00',\n",
       "    '8.00',\n",
       "    '60.00',\n",
       "    '30.00',\n",
       "    '5.00',\n",
       "    '5.00',\n",
       "    '0.00',\n",
       "    '4.80',\n",
       "    '2.40',\n",
       "    '0.40',\n",
       "    '0.40',\n",
       "    '0.00',\n",
       "    '200',\n",
       "    '10.0'],\n",
       "   'Units': ['g/dL',\n",
       "    '%',\n",
       "    'mill/mm3',\n",
       "    'fL',\n",
       "    'pg',\n",
       "    'g/dL',\n",
       "    '%',\n",
       "    'thou/mm3',\n",
       "    '%',\n",
       "    '%',\n",
       "    '%',\n",
       "    '%',\n",
       "    '%',\n",
       "    'thou/mm3',\n",
       "    'thou/mm3',\n",
       "    'thou/mm3',\n",
       "    'thou/mm3',\n",
       "    'thou/mm3',\n",
       "    'thou/mm3',\n",
       "    'fL'],\n",
       "   'Bio. Ref. Interval': ['13.00 - 17.00',\n",
       "    '40.00 - 50.00',\n",
       "    '4.50 - 5.50',\n",
       "    '83.00 - 101.00',\n",
       "    '27.00 - 32.00',\n",
       "    '31.50 - 34.50',\n",
       "    '11.60 - 14.00',\n",
       "    '4.00 - 10.00',\n",
       "    '40.00 - 80.00',\n",
       "    '20.00 - 40.00',\n",
       "    '2.00 - 10.00',\n",
       "    '1.00 - 6.00',\n",
       "    '<2.00',\n",
       "    '2.00 - 7.00',\n",
       "    '1.00 - 3.00',\n",
       "    '0.20 - 1.00',\n",
       "    '0.02 - 0.50',\n",
       "    '0.02 - 0.10',\n",
       "    '150.00 - 410.00',\n",
       "    '6.5 - 12.0']}]}"
      ]
     },
     "execution_count": 5,
     "metadata": {},
     "output_type": "execute_result"
    }
   ],
   "source": [
    "PDF_Processing.get_clean_json(res)"
   ]
  },
  {
   "cell_type": "code",
   "execution_count": null,
   "id": "3185d1a1",
   "metadata": {},
   "outputs": [],
   "source": []
  }
 ],
 "metadata": {
  "kernelspec": {
   "display_name": "Python 3 (ipykernel)",
   "language": "python",
   "name": "python3"
  },
  "language_info": {
   "codemirror_mode": {
    "name": "ipython",
    "version": 3
   },
   "file_extension": ".py",
   "mimetype": "text/x-python",
   "name": "python",
   "nbconvert_exporter": "python",
   "pygments_lexer": "ipython3",
   "version": "3.12.4"
  }
 },
 "nbformat": 4,
 "nbformat_minor": 5
}
