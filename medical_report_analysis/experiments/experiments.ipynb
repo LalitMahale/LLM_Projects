{
 "cells": [
  {
   "cell_type": "code",
   "execution_count": 15,
   "id": "c80ab0de",
   "metadata": {},
   "outputs": [],
   "source": [
    "# source of report https://drlogy.com/blog/blood-report-format#:~:text=Blood%20Report%20Format%20Examples%20&%20PDF.%2010%20Key%20Blood%20Report\n",
    "\n",
    "# https://cdn1.lalpathlabs.com/live/reports/WM17S.pdf#:~:text=Test%20Report%20Test%20Name%20Results%20Units%20Bio.%20Ref.%20Interval%20Note"
   ]
  },
  {
   "cell_type": "raw",
   "id": "3a433e29",
   "metadata": {},
   "source": [
    "pip install easyocr"
   ]
  },
  {
   "cell_type": "code",
   "execution_count": 5,
   "id": "c27e868b",
   "metadata": {},
   "outputs": [],
   "source": [
    "import cv2"
   ]
  },
  {
   "cell_type": "code",
   "execution_count": 6,
   "id": "7b2ae5f2",
   "metadata": {},
   "outputs": [
    {
     "name": "stderr",
     "output_type": "stream",
     "text": [
      "Neither CUDA nor MPS are available - defaulting to CPU. Note: This module is much faster with a GPU.\n"
     ]
    }
   ],
   "source": [
    "import easyocr\n",
    "\n",
    "ocr = easyocr.Reader(lang_list=['en'])"
   ]
  },
  {
   "cell_type": "code",
   "execution_count": 7,
   "id": "f2986224",
   "metadata": {},
   "outputs": [],
   "source": [
    "image = cv2.imread(\"temp_image/page_1.png\")"
   ]
  },
  {
   "cell_type": "code",
   "execution_count": 9,
   "id": "970fa3e0",
   "metadata": {},
   "outputs": [],
   "source": [
    "result = ocr.readtext(image)"
   ]
  },
  {
   "cell_type": "code",
   "execution_count": 15,
   "id": "de8534c4",
   "metadata": {},
   "outputs": [
    {
     "data": {
      "text/plain": [
       "'DRLOGY PATHOLOGY LAB'"
      ]
     },
     "execution_count": 15,
     "metadata": {},
     "output_type": "execute_result"
    }
   ],
   "source": [
    "result[0][1]"
   ]
  },
  {
   "cell_type": "code",
   "execution_count": 17,
   "id": "a29c641c",
   "metadata": {},
   "outputs": [],
   "source": [
    "text = [bbox[1] for bbox in result]\n",
    "\n",
    "text = \"\\n\".join(text)"
   ]
  },
  {
   "cell_type": "code",
   "execution_count": 18,
   "id": "af3c434e",
   "metadata": {},
   "outputs": [
    {
     "name": "stdout",
     "output_type": "stream",
     "text": [
      "DRLOGY PATHOLOGY LAB\n",
      "0123456789\n",
      "0912345678\n",
      "Accurate\n",
      "Caring\n",
      "Instant\n",
      "drlogypathlab@drlogy com\n",
      "105-108, SMART VISION COMPLEX, HEALTHCARE ROAD, OPPOSITE HEALTHCARE COMPLEX. MUMBAI\n",
      "689578\n",
      "WWW\n",
      "drlogy com\n",
      "Yash M. Patel\n",
      "Sample Collected At:\n",
      "21 Years\n",
      "125, Shivam Bungalow, S G Road,\n",
      "35545 62336 78\n",
      "Registered on: 02.31 PM 02 Dec, 2X\n",
      "Sex\n",
      "Male\n",
      "Mumbai\n",
      "Collected on: 03.11 PM 02\n",
      "2X\n",
      "PID\n",
      "555\n",
      "Ref. By: Dr. Hiren Shah\n",
      "Reported on: 04.35 PM 02 Dec, 2X\n",
      "Complete Blood Count (CBC)\n",
      "Investigation\n",
      "Result\n",
      "Reference Value\n",
      "Unit\n",
      "Primary Sample Type\n",
      "Blood\n",
      "HEMOGLOBIN\n",
      "Hemoglobin (Hb)\n",
      "12.5\n",
      "Low\n",
      "13.0 - 17.0\n",
      "g/dL\n",
      "RBC COUNT\n",
      "Total RBC count\n",
      "5.2\n",
      "4.5\n",
      "5.5\n",
      "mill/cumm\n",
      "BLOOD INDICES\n",
      "Packed Cell Volume (PCV)\n",
      "57.5\n",
      "High\n",
      "40\n",
      "50\n",
      "%\n",
      "Mean Corpuscular Volume (MCV)\n",
      "87.75\n",
      "83\n",
      "101\n",
      "fL\n",
      "Calculated\n",
      "MCH\n",
      "27.2\n",
      "27\n",
      "32\n",
      "pg\n",
      "Calculated\n",
      "MCHC\n",
      "32.8\n",
      "32.5 - 34.5\n",
      "g/dL\n",
      "Calculated\n",
      "RDW\n",
      "13.6\n",
      "11.6\n",
      "14.0\n",
      "%\n",
      "WBC COUNT\n",
      "Total WBC count\n",
      "\" J0oo\n",
      "4000-11000\n",
      "  Gm\n",
      "DIFFERENTIAL WBC COUNT\n",
      "Neutrophils\n",
      "60\n",
      "50\n",
      "62\n",
      "%\n",
      "Lymphocytes\n",
      "31\n",
      "\n",
      "20 - 40\n",
      "\n",
      "%\n",
      "Eosinophils\n",
      "1\n",
      "00\n",
      "06\n",
      "%\n",
      "Monocytes\n",
      "7\n",
      "00\n",
      "10\n",
      "%\n",
      "Basophils\n",
      "1\n",
      "00\n",
      "02\n",
      "%\n",
      "PLATELET COUNT\n",
      "Platelet Count\n",
      "150000\n",
      "Borderline\n",
      "150000\n",
      "410000\n",
      "cumm\n",
      "Instruments: Fully automated cell counter\n",
      "Mindray 300\n",
      "Interpretation: Further confirm for Anemia\n",
      "Thanks for Reference\n",
      "****End of Report****\n",
      "Medical Lab Technician\n",
      "Dr. Payal Shah\n",
      "Dr: Vimal Shah\n",
      "(DMLT, BMLT)\n",
      "(MD, Pathologist)\n",
      "(MD, Pathologist)\n",
      "Generated on\n",
      "02 Dec, 202X 05.00 PM\n",
      "Page 1 of 1\n",
      "Sample Collection\n",
      "0123456789\n",
      "Age\n",
      "Dec,\n",
      "78 0tz47\n"
     ]
    }
   ],
   "source": [
    "print(text)"
   ]
  },
  {
   "cell_type": "code",
   "execution_count": 7,
   "id": "8f722b5f",
   "metadata": {},
   "outputs": [
    {
     "name": "stderr",
     "output_type": "stream",
     "text": [
      "C:\\Users\\lalit\\anaconda3\\envs\\gen_ai\\Lib\\site-packages\\tqdm\\auto.py:21: TqdmWarning: IProgress not found. Please update jupyter and ipywidgets. See https://ipywidgets.readthedocs.io/en/stable/user_install.html\n",
      "  from .autonotebook import tqdm as notebook_tqdm\n"
     ]
    },
    {
     "data": {
      "text/plain": [
       "True"
      ]
     },
     "execution_count": 7,
     "metadata": {},
     "output_type": "execute_result"
    }
   ],
   "source": [
    "import os\n",
    "import google.generativeai as genai\n",
    "from PIL import Image\n",
    "from dotenv import load_dotenv\n",
    "load_dotenv()"
   ]
  },
  {
   "cell_type": "code",
   "execution_count": 8,
   "id": "f7fd2e8d",
   "metadata": {},
   "outputs": [],
   "source": [
    "genai.configure(api_key=os.getenv(\"GOOGLE_API_KEY\"))\n",
    "model = genai.GenerativeModel(model_name=\"gemini-pro\")"
   ]
  },
  {
   "cell_type": "code",
   "execution_count": 62,
   "id": "40c324e9",
   "metadata": {},
   "outputs": [
    {
     "data": {
      "text/plain": [
       "'Hello! How can I assist you today?'"
      ]
     },
     "execution_count": 62,
     "metadata": {},
     "output_type": "execute_result"
    }
   ],
   "source": [
    "model.generate_content(\"hi\").text"
   ]
  },
  {
   "cell_type": "raw",
   "id": "6c076e94",
   "metadata": {},
   "source": [
    "pip install Pymupdf"
   ]
  },
  {
   "cell_type": "code",
   "execution_count": 31,
   "id": "c16ef0b7",
   "metadata": {
    "scrolled": false
   },
   "outputs": [
    {
     "name": "stdout",
     "output_type": "stream",
     "text": [
      "C:\\Users\\lalit\\Desktop\\LLMProject\\LLM_projects\n"
     ]
    },
    {
     "name": "stderr",
     "output_type": "stream",
     "text": [
      "C:\\Users\\lalit\\anaconda3\\envs\\gen_ai\\Lib\\site-packages\\IPython\\core\\magics\\osm.py:417: UserWarning: This is now an optional IPython functionality, setting dhist requires you to install the `pickleshare` library.\n",
      "  self.shell.db['dhist'] = compress_dhist(dhist)[-100:]\n"
     ]
    }
   ],
   "source": [
    "%cd .."
   ]
  },
  {
   "cell_type": "code",
   "execution_count": 32,
   "id": "b32306cb",
   "metadata": {},
   "outputs": [],
   "source": [
    "from src.document import PDF_Processing\n",
    "from src.pipeline import LLM\n"
   ]
  },
  {
   "cell_type": "code",
   "execution_count": 38,
   "id": "f9ee41ff",
   "metadata": {},
   "outputs": [
    {
     "name": "stdout",
     "output_type": "stream",
     "text": [
      "C:\\Users\\lalit\\Desktop\\LLMProject\\LLM_projects\\medical_report_analysis\n"
     ]
    },
    {
     "name": "stderr",
     "output_type": "stream",
     "text": [
      "C:\\Users\\lalit\\anaconda3\\envs\\gen_ai\\Lib\\site-packages\\IPython\\core\\magics\\osm.py:417: UserWarning: This is now an optional IPython functionality, setting dhist requires you to install the `pickleshare` library.\n",
      "  self.shell.db['dhist'] = compress_dhist(dhist)[-100:]\n"
     ]
    }
   ],
   "source": [
    "%cd medical_report_analysis/"
   ]
  },
  {
   "cell_type": "code",
   "execution_count": 39,
   "id": "2e34c0b0",
   "metadata": {},
   "outputs": [],
   "source": [
    "filepath = \"test_images/WM17S.pdf\"\n",
    "image = PDF_Processing.pdf_to_image(file=filepath)"
   ]
  },
  {
   "cell_type": "code",
   "execution_count": 72,
   "id": "a6687356",
   "metadata": {},
   "outputs": [],
   "source": [
    "input_prompt=\"\"\"\n",
    "You are skilled in interpreting images, specifically medical reports. Your task is to extract all the text from the provided images, capturing every detail exactly as it appears\n",
    "\"\"\"\n",
    "file = r\"C:\\Users\\lalit\\Downloads\\4a79b38b-5cb2-4c87-b4f9-7c18fd615711.jpg\"\n",
    "# image = Image.open(file)\n",
    "query =  \"extract detail and number as given in image\"\n",
    "#\"\"\"\n",
    "# Give output in give json format : \\n\n",
    "# {\n",
    "#   \"patient_name\": \"<patient name>\",\n",
    "#   \"lab_no\": \"<lab number>\",\n",
    "#   \"lab_name\": \"<laboratory name>\",\n",
    "#   \"collection_date_time\": \"<sample collection date and time>\",\n",
    "#   \"reported_date_time\": \"<report date and time>\",\n",
    "#   \"patient_age\": \"<patient age>\",\n",
    "#   \"patient_gender\": \"<patient gender>\",\n",
    "#   \"Report\": {\n",
    "#     \"<investigation name>\": {\n",
    "#       \"result\": \"<result value>\",\n",
    "#       \"reference_value\": \"<reference range>\",\n",
    "#       \"unit\": \"<unit of measurement>\"\n",
    "#     }\n",
    "#   }\n",
    "# }\n",
    "\n",
    "# \"\"\"\n",
    "\n",
    "\n",
    "res = LLM().gemini_vision_llm([query,image,input_prompt])\n"
   ]
  },
  {
   "cell_type": "raw",
   "id": "e778b801",
   "metadata": {},
   "source": [
    "PDF_Processing.get_clean_json(res)"
   ]
  },
  {
   "cell_type": "code",
   "execution_count": 73,
   "id": "5929f34d",
   "metadata": {},
   "outputs": [
    {
     "name": "stdout",
     "output_type": "stream",
     "text": [
      "Name                : DUMMY\n",
      "Lab No.             : 439854467\n",
      "Ref By              : U\n",
      "Collected         : 14/5/2023 11:03:00AM\n",
      "A/c Status         : P\n",
      "Collected at      : LPL-ROHINI (NATIONAL REFERENCE LAB)\n",
      "                             National Reference laboratory, Block E, Sector\n",
      "                             18, ROHINI\n",
      "                             DELHI 110085\n",
      "Age                 : 30 Years\n",
      "Gender              : Male\n",
      "Reported          : 16/5/2023 1:36:25PM\n",
      "Report Status     : Final\n",
      "Processed at     : LPL-NATIONAL REFERENCE LAB\n",
      "                              National Reference laboratory, Block E,\n",
      "                             Sector 18, Rohini, New Delhi -110085\n",
      "\n",
      "Test Name                                              Results           Units               Bio. Ref. Interval \n",
      "SwasthFit Super 4\n",
      "\n",
      "COMPLETE BLOOD COUNT;CBC\n",
      "Hemoglobin                                               15.00               g/dL                      13.00 - 17.00\n",
      "(Photometry)\n",
      "Packed Cell Volume (PCV)                         45.00               %                            40.00 - 50.00\n",
      "(Calculated)\n",
      "RBC Count                                              4.50                mill/mm3                4.50 - 5.50\n",
      "(Electrical Impedence)\n",
      "MCV                                                      90.00              fL                            83.00 - 101.00\n",
      "(Electrical Impedence)\n",
      "MCH                                                      32.00               pg                           27.00 - 32.00\n",
      "(Calculated)\n",
      "MCHC                                                     33.00               g/dL                      31.50 - 34.50\n",
      "(Calculated)\n",
      "Red Cell Distribution Width (RDW)                 14.00               %                            11.60 - 14.00\n",
      "(Electrical Impedence)\n",
      "Total Leukocyte Count (TLC)                      8.00               thou/mm3               4.00 - 10.00\n",
      "(Electrical Impedence)\n",
      "\n",
      "Differential Leucocyte Count (DLC)\n",
      "(VCS Technology)\n",
      "Segmented Neutrophils                           60.00               %                            40.00 - 80.00\n",
      "Lymphocytes                                             30.00               %                            20.00 - 40.00\n",
      "Monocytes                                                5.00                %                            2.00 - 10.00\n",
      "Eosinophils                                                5.00                %                            1.00 - 6.00\n",
      "Basophils                                                  0.00                %                            <2.00\n",
      "\n",
      "Absolute Leucocyte Count \n",
      "(Calculated)\n",
      "Neutrophils                                              4.80                 thou/mm3                2.00 - 7.00\n",
      "Lymphocytes                                             2.40                 thou/mm3                1.00 - 3.00\n",
      "Monocytes                                                0.40                 thou/mm3                0.20 - 1.00\n",
      "Eosinophils                                                0.40                 thou/mm3                0.02 - 0.50\n",
      "Basophils                                                  0.00                 thou/mm3                0.02 - 0.10\n",
      "\n",
      "Platelet Count                                          200                  thou/mm3               150.00 - 410.00\n",
      "(Electrical Impedence)\n",
      "Mean Platelet Volume                            10.0                  fL                             6.5 - 12.0\n",
      "(Electrical Impedence)\n",
      "\n",
      "Page 1 of 10\n",
      "\n"
     ]
    }
   ],
   "source": [
    "print(res)"
   ]
  },
  {
   "cell_type": "code",
   "execution_count": 96,
   "id": "3784a10b",
   "metadata": {},
   "outputs": [],
   "source": [
    "prompt = f\"\"\"You are an expert in text comprehension. Your task is straightforward: understand the provided text and return the output in the specified JSON format.\n",
    "\n",
    "Text: {text}\n",
    "\n",
    "Output: Please provide the output in the following JSON format:\n",
    "\n",
    "{{\n",
    "  \"patient_name\": \"<patient name>\",\n",
    "  \"lab_no\": \"<lab number>\",\n",
    "  \"lab_name\": \"<laboratory name>\",\n",
    "  \"collection_date_time\": \"<sample collection date and time>\",\n",
    "  \"reported_date_time\": \"<report date and time>\"\n",
    "  \"test_name\": \"<test name>\",\n",
    "  \"patient_age\": \"<patient age>\",\n",
    "  \"patient_gender\": \"<patient gender>\",\n",
    "  \"Report\": {{\n",
    "    \"<investigation name>\": {{\n",
    "      \"result\": \"<result value>\",\n",
    "      \"reference_value\": \"<reference range>\",\n",
    "      \"unit\": \"<unit of measurement>\"\n",
    "    }}\n",
    "  }}\n",
    "}}\n",
    "\"\"\"\n"
   ]
  },
  {
   "cell_type": "code",
   "execution_count": 97,
   "id": "6daad372",
   "metadata": {},
   "outputs": [],
   "source": [
    "result = model.generate_content(prompt).text"
   ]
  },
  {
   "cell_type": "code",
   "execution_count": 98,
   "id": "32e09144",
   "metadata": {},
   "outputs": [
    {
     "name": "stdout",
     "output_type": "stream",
     "text": [
      "{\n",
      "  \"patient_name\": \"Yash M. Patel\",\n",
      "  \"lab_no\": \"689578\",\n",
      "  \"lab_name\": \"DRLOGY PATHOLOGY LAB\",\n",
      "  \"collection_date_time\": \"03.11 PM 02 Dec, 2X\",\n",
      "  \"reported_date_time\": \"04.35 PM 02 Dec, 2X\",\n",
      "  \"test_name\": \"Complete Blood Count (CBC)\",\n",
      "  \"patient_age\": \"21 Years\",\n",
      "  \"patient_gender\": \"Male\",\n",
      "  \"Report\": {\n",
      "    \"HEMOGLOBIN\": {\n",
      "      \"result\": \"12.5\",\n",
      "      \"reference_value\": \"13.0 - 17.0\",\n",
      "      \"unit\": \"g/dL\"\n",
      "    },\n",
      "    \"RBC COUNT\": {\n",
      "      \"result\": \"5.2\",\n",
      "      \"reference_value\": \"4.5 - 5.5\",\n",
      "      \"unit\": \"mill/cumm\"\n",
      "    },\n",
      "    \"BLOOD INDICES\": {\n",
      "      \"Packed Cell Volume (PCV)\": {\n",
      "        \"result\": \"57.5\",\n",
      "        \"reference_value\": \"40 - 50\",\n",
      "        \"unit\": \"%\"\n",
      "      },\n",
      "      \"Mean Corpuscular Volume (MCV)\": {\n",
      "        \"result\": \"87.75\",\n",
      "        \"reference_value\": \"83 - 101\",\n",
      "        \"unit\": \"fL\"\n",
      "      },\n",
      "      \"MCH\": {\n",
      "        \"result\": \"27.2\",\n",
      "        \"reference_value\": \"27 - 32\",\n",
      "        \"unit\": \"pg\"\n",
      "      },\n",
      "      \"MCHC\": {\n",
      "        \"result\": \"32.8\",\n",
      "        \"reference_value\": \"32.5 - 34.5\",\n",
      "        \"unit\": \"g/dL\"\n",
      "      },\n",
      "      \"RDW\": {\n",
      "        \"result\": \"13.6\",\n",
      "        \"reference_value\": \"11.6 - 14.0\",\n",
      "        \"unit\": \"%\"\n",
      "      }\n",
      "    },\n",
      "    \"WBC COUNT\": {\n",
      "      \"result\": \"10000\",\n",
      "      \"reference_value\": \"4000-11000\",\n",
      "      \"unit\": \"  Gm\"\n",
      "    },\n",
      "    \"DIFFERENTIAL WBC COUNT\": {\n",
      "      \"Neutrophils\": {\n",
      "        \"result\": \"60\",\n",
      "        \"reference_value\": \"50 - 62\",\n",
      "        \"unit\": \"%\"\n",
      "      },\n",
      "      \"Lymphocytes\": {\n",
      "        \"result\": \"31\",\n",
      "        \"reference_value\": \"20 - 40\",\n",
      "        \"unit\": \"%\"\n",
      "      },\n",
      "      \"Eosinophils\": {\n",
      "        \"result\": \"1\",\n",
      "        \"reference_value\": \"00 - 06\",\n",
      "        \"unit\": \"%\"\n",
      "      },\n",
      "      \"Monocytes\": {\n",
      "        \"result\": \"7\",\n",
      "        \"reference_value\": \"00 - 10\",\n",
      "        \"unit\": \"%\"\n",
      "      },\n",
      "      \"Basophils\": {\n",
      "        \"result\": \"1\",\n",
      "        \"reference_value\": \"00 - 02\",\n",
      "        \"unit\": \"%\"\n",
      "      }\n",
      "    },\n",
      "    \"PLATELET COUNT\": {\n",
      "      \"result\": \"150000\",\n",
      "      \"reference_value\": \"150000 - 410000\",\n",
      "      \"unit\": \"cumm\"\n",
      "    }\n",
      "  }\n",
      "}\n"
     ]
    }
   ],
   "source": [
    "print(result)"
   ]
  },
  {
   "cell_type": "code",
   "execution_count": 9,
   "id": "6bd8e895",
   "metadata": {},
   "outputs": [],
   "source": [
    "import json"
   ]
  },
  {
   "cell_type": "code",
   "execution_count": 99,
   "id": "5b91e087",
   "metadata": {},
   "outputs": [
    {
     "data": {
      "text/plain": [
       "{'patient_name': 'Yash M. Patel',\n",
       " 'lab_no': '689578',\n",
       " 'lab_name': 'DRLOGY PATHOLOGY LAB',\n",
       " 'collection_date_time': '03.11 PM 02 Dec, 2X',\n",
       " 'reported_date_time': '04.35 PM 02 Dec, 2X',\n",
       " 'test_name': 'Complete Blood Count (CBC)',\n",
       " 'patient_age': '21 Years',\n",
       " 'patient_gender': 'Male',\n",
       " 'Report': {'HEMOGLOBIN': {'result': '12.5',\n",
       "   'reference_value': '13.0 - 17.0',\n",
       "   'unit': 'g/dL'},\n",
       "  'RBC COUNT': {'result': '5.2',\n",
       "   'reference_value': '4.5 - 5.5',\n",
       "   'unit': 'mill/cumm'},\n",
       "  'BLOOD INDICES': {'Packed Cell Volume (PCV)': {'result': '57.5',\n",
       "    'reference_value': '40 - 50',\n",
       "    'unit': '%'},\n",
       "   'Mean Corpuscular Volume (MCV)': {'result': '87.75',\n",
       "    'reference_value': '83 - 101',\n",
       "    'unit': 'fL'},\n",
       "   'MCH': {'result': '27.2', 'reference_value': '27 - 32', 'unit': 'pg'},\n",
       "   'MCHC': {'result': '32.8',\n",
       "    'reference_value': '32.5 - 34.5',\n",
       "    'unit': 'g/dL'},\n",
       "   'RDW': {'result': '13.6', 'reference_value': '11.6 - 14.0', 'unit': '%'}},\n",
       "  'WBC COUNT': {'result': '10000',\n",
       "   'reference_value': '4000-11000',\n",
       "   'unit': '  Gm'},\n",
       "  'DIFFERENTIAL WBC COUNT': {'Neutrophils': {'result': '60',\n",
       "    'reference_value': '50 - 62',\n",
       "    'unit': '%'},\n",
       "   'Lymphocytes': {'result': '31', 'reference_value': '20 - 40', 'unit': '%'},\n",
       "   'Eosinophils': {'result': '1', 'reference_value': '00 - 06', 'unit': '%'},\n",
       "   'Monocytes': {'result': '7', 'reference_value': '00 - 10', 'unit': '%'},\n",
       "   'Basophils': {'result': '1', 'reference_value': '00 - 02', 'unit': '%'}},\n",
       "  'PLATELET COUNT': {'result': '150000',\n",
       "   'reference_value': '150000 - 410000',\n",
       "   'unit': 'cumm'}}}"
      ]
     },
     "execution_count": 99,
     "metadata": {},
     "output_type": "execute_result"
    }
   ],
   "source": [
    "json.loads(result)"
   ]
  },
  {
   "cell_type": "code",
   "execution_count": 11,
   "id": "27fe4ed9",
   "metadata": {},
   "outputs": [
    {
     "data": {
      "text/plain": [
       "'The image is a blood test report from Dr Lal PathLabs for a patient named \"DUMMY\". It shows the results of a \"SwasthFit Super 4\" test, which includes a complete blood count (CBC). \\n\\nThe report includes details such as:\\n\\n* **Patient Information:** Name, Lab No., Age, Gender\\n* **Sample Information:**  Collected date & time, Report date & time,  A/c Status\\n* **Test Results:** Detailed results for various blood components like Hemoglobin, RBC Count, WBC Count, Platelet count and more.  Each result is presented with the actual value, unit of measurement, and the biological reference interval.\\n\\nThe report also includes contact information for customer care in case of any alarming or unexpected results. \\n'"
      ]
     },
     "execution_count": 11,
     "metadata": {},
     "output_type": "execute_result"
    }
   ],
   "source": [
    "response.text"
   ]
  },
  {
   "cell_type": "code",
   "execution_count": 24,
   "id": "4c5abef5",
   "metadata": {},
   "outputs": [
    {
     "name": "stdout",
     "output_type": "stream",
     "text": [
      "C:\\Users\\lalit\\Desktop\\LLMProject\\LLM_projects\\medical_report_analysis\n"
     ]
    },
    {
     "name": "stderr",
     "output_type": "stream",
     "text": [
      "C:\\Users\\lalit\\anaconda3\\envs\\gen_ai\\Lib\\site-packages\\IPython\\core\\magics\\osm.py:417: UserWarning: This is now an optional IPython functionality, setting dhist requires you to install the `pickleshare` library.\n",
      "  self.shell.db['dhist'] = compress_dhist(dhist)[-100:]\n"
     ]
    }
   ],
   "source": [
    "%cd .."
   ]
  },
  {
   "cell_type": "code",
   "execution_count": 22,
   "id": "082477d7",
   "metadata": {},
   "outputs": [
    {
     "name": "stdout",
     "output_type": "stream",
     "text": [
      "The image shows a variety of South Indian breakfast dishes served on banana leaves. The dishes include:\n",
      "\n",
      "* **Dosa:** A thin, crispy crepe made from fermented rice and lentil batter. There are two types of dosa in the image: a plain dosa and a masala dosa (filled with a spiced potato mixture).\n",
      "* **Idli:** Steamed rice cakes served with sambar (a lentil-based vegetable stew) and chutney (coconut chutney).\n",
      "* **Parotta:** Layered flatbread served with a curry (possibly kurma, a creamy coconut-based gravy).\n",
      "\n",
      "Each dish is accompanied by small bowls of sambar and chutney. The picture seems to be taken at a restaurant called \"Tiffin Times\". \n",
      "\n"
     ]
    }
   ],
   "source": [
    "print(response.text)"
   ]
  },
  {
   "cell_type": "code",
   "execution_count": 1,
   "id": "2f1dd3c9",
   "metadata": {},
   "outputs": [
    {
     "data": {
      "text/plain": [
       "'C:\\\\Users\\\\lalit\\\\Desktop\\\\LLMProject\\\\LLM_projects\\\\medical_report_analysis\\\\experiments'"
      ]
     },
     "execution_count": 1,
     "metadata": {},
     "output_type": "execute_result"
    }
   ],
   "source": [
    "pwd"
   ]
  },
  {
   "cell_type": "code",
   "execution_count": 2,
   "id": "dc0a9218",
   "metadata": {},
   "outputs": [
    {
     "name": "stdout",
     "output_type": "stream",
     "text": [
      "C:\\Users\\lalit\\Desktop\\LLMProject\\LLM_projects\\medical_report_analysis\n"
     ]
    },
    {
     "name": "stderr",
     "output_type": "stream",
     "text": [
      "C:\\Users\\lalit\\anaconda3\\envs\\gen_ai\\Lib\\site-packages\\IPython\\core\\magics\\osm.py:417: UserWarning: This is now an optional IPython functionality, setting dhist requires you to install the `pickleshare` library.\n",
      "  self.shell.db['dhist'] = compress_dhist(dhist)[-100:]\n"
     ]
    }
   ],
   "source": [
    "%cd ..\n"
   ]
  },
  {
   "cell_type": "code",
   "execution_count": 3,
   "id": "b01d9152",
   "metadata": {},
   "outputs": [],
   "source": [
    "from src.document import PDF_Processing\n",
    "from src.ocr_model import OCR\n"
   ]
  },
  {
   "cell_type": "code",
   "execution_count": 5,
   "id": "5be41bcf",
   "metadata": {},
   "outputs": [
    {
     "name": "stderr",
     "output_type": "stream",
     "text": [
      "Neither CUDA nor MPS are available - defaulting to CPU. Note: This module is much faster with a GPU.\n"
     ]
    }
   ],
   "source": [
    "image = PDF_Processing.pdf_to_image(\"test_images/WM17S.pdf\")\n",
    "text = OCR.extract_text(image)"
   ]
  },
  {
   "cell_type": "code",
   "execution_count": 11,
   "id": "df14c145",
   "metadata": {},
   "outputs": [
    {
     "name": "stdout",
     "output_type": "stream",
     "text": [
      "8 Dr Lal PathLala\n",
      "Regd: Office/National Reference Lab: Dr Lal PathLabs Ltd, Block-E, Sector-18, Rohini, New Delhi-1 10085\n",
      "Wcb: www lalpathlabs com; CIN No:: L74899DL1995PL.C065388\n",
      "Name\n",
      "DUMMY\n",
      "\n",
      "Lab No_\n",
      "439854467\n",
      "Age\n",
      "30 Years\n",
      "\n",
      "Ref By\n",
      "U\n",
      "Gender\n",
      "Male\n",
      "\n",
      "MC-2113\n",
      "Collected\n",
      "14/5/2023  11:03:OOAM\n",
      "Reported\n",
      "16/5/2023  1:36.25PM\n",
      "Alc Status\n",
      "P\n",
      "Report Status\n",
      "Final\n",
      "Collected at\n",
      "LPL-ROHINI (NATIONAL REFERENCE LAB)\n",
      "Processed at\n",
      "LPL-NATIONAL REFERENCE LAB\n",
      "National Reference laboratory, Block E, Sector\n",
      "National Reference laboratory, Block E,\n",
      "18, ROHINI\n",
      "Sector 18, Rohini; New Delhi -110085\n",
      "DELHI 110085\n",
      "Test Report\n",
      "Test Name\n",
      "Results\n",
      "Units\n",
      "Bio. Ref. Interval\n",
      "SwasthFit Super 4\n",
      "COMPLETE BLOOD COUNT;CBC\n",
      "Hemoglobin\n",
      "15.00\n",
      "13.00\n",
      "17.00\n",
      "(Photometry)\n",
      "Packed Cell Volume (PCV)\n",
      "45.00\n",
      "%\n",
      "40.00\n",
      "50.00\n",
      "(Calculated)\n",
      "RBC Count\n",
      "4.50\n",
      "milllmm3\n",
      "4.50\n",
      "5.50\n",
      "(Electrical Impedence)\n",
      "MCV\n",
      "90.00\n",
      "fL\n",
      "83.00\n",
      "101.00\n",
      "(Electrical Impedence)\n",
      "MCH\n",
      "32.00\n",
      "pg\n",
      "27.00\n",
      "32.00\n",
      "(Calculated)\n",
      "MCHC\n",
      "33.00\n",
      "31.50\n",
      "34.50\n",
      "(Calculated)\n",
      "Red Cell Distribution Width (RDW)\n",
      "14.00\n",
      "11.60\n",
      "14.00\n",
      "(Electrical Impedence)\n",
      "Total Leukocyte Count (TLC)\n",
      "8.00\n",
      "thoulmm3\n",
      "4.00\n",
      "10.00\n",
      "(Electrical Impedence)\n",
      "Differential Leucocyte Count (DLC)\n",
      "(VCS Technology)\n",
      "Segmented Neutrophils\n",
      "60.00\n",
      "%\n",
      "40.00\n",
      "80.00\n",
      "Lymphocytes\n",
      "30.00\n",
      "%\n",
      "20.00\n",
      "40.00\n",
      "Monocytes\n",
      "5.00\n",
      "%\n",
      "2.00\n",
      "10.00\n",
      "Eosinophils\n",
      "5.00\n",
      "%\n",
      "1.00\n",
      "6.00\n",
      "Basophils\n",
      "0.00\n",
      "%\n",
      "<2.00\n",
      "Absolute Leucocyte Count\n",
      "(Calculated)\n",
      "Neutrophils\n",
      "4.80\n",
      "thoulmm3\n",
      "2.00\n",
      "7.00\n",
      "Lymphocytes\n",
      "2.40\n",
      "thoulmm3\n",
      "1.00\n",
      "3.00\n",
      "Monocytes\n",
      "0.40\n",
      "thoulmm3\n",
      "0.20\n",
      "1.00\n",
      "Eosinophils\n",
      "0.40\n",
      "thoulmm3\n",
      "0.02\n",
      "0.50\n",
      "Basophils\n",
      "0.00\n",
      "thoulmm3\n",
      "0.02\n",
      "0.10\n",
      "Platelet Count\n",
      "200\n",
      "thoulmm3\n",
      "150.00\n",
      "410.00\n",
      "(Electrical impedence)\n",
      "Mean Platelet Volume\n",
      "10.0\n",
      "6.5\n",
      "12.0\n",
      "(Electrical Impedence)\n",
      "Page 1 of 10\n",
      "If Test results are\n",
      "alarming or unexpected,client is advised to contact the Customer Care immediately for possible remedial action:\n",
      "Tel: +91-11-3988-5050,E-mail: lalpathlabs@lalpathlabs.com\n",
      "gldL\n",
      "gldL\n"
     ]
    }
   ],
   "source": [
    "print(text)"
   ]
  },
  {
   "cell_type": "code",
   "execution_count": 6,
   "id": "ae61a57a",
   "metadata": {},
   "outputs": [],
   "source": [
    "prompt = f\"\"\"You are an expert in text comprehension. Your task is straightforward: understand the provided text and return the output in the specified JSON format.\n",
    "\n",
    "Text: {text}\n",
    "\n",
    "Output: Please provide the output in the following JSON format:\n",
    "\n",
    "{{\n",
    "  \"patient_name\": \"<patient name>\",\n",
    "  \"lab_no\": \"<lab number>\",\n",
    "  \"lab_name\": \"<laboratory name>\",\n",
    "  \"collection_date_time\": \"<sample collection date and time>\",\n",
    "  \"reported_date_time\": \"<report date and time>\"\n",
    "  \"test_name\": \"<test name>\",\n",
    "  \"patient_age\": \"<patient age>\",\n",
    "  \"patient_gender\": \"<patient gender>\",\n",
    "  \"Report\": {{\n",
    "    \"<investigation name>\": {{\n",
    "      \"result\": \"<result value>\",\n",
    "      \"reference_value\": \"<reference range>\",\n",
    "      \"unit\": \"<unit of measurement>\"\n",
    "    }}\n",
    "  }}\n",
    "}}\n",
    "\"\"\"\n"
   ]
  },
  {
   "cell_type": "code",
   "execution_count": 9,
   "id": "994559c0",
   "metadata": {},
   "outputs": [
    {
     "name": "stdout",
     "output_type": "stream",
     "text": [
      "{\n",
      "  \"patient_name\": \"DUMMY\",\n",
      "  \"lab_no\": \"439854467\",\n",
      "  \"lab_name\": \"Dr Lal PathLabs Ltd\",\n",
      "  \"collection_date_time\": \"14/5/2023  11:03:OOAM\",\n",
      "  \"reported_date_time\": \"16/5/2023  1:36.25PM\",\n",
      "  \"test_name\": \"SwasthFit Super 4\",\n",
      "  \"patient_age\": \"30 Years\",\n",
      "  \"patient_gender\": \"Male\",\n",
      "  \"Report\": {\n",
      "    \"COMPLETE BLOOD COUNT;CBC\": {\n",
      "      \"Hemoglobin\": {\n",
      "        \"result\": \"15.00\",\n",
      "        \"reference_value\": \"13.00 - 17.00\",\n",
      "        \"unit\": \"gldL\"\n",
      "      },\n",
      "      \"Packed Cell Volume (PCV)\": {\n",
      "        \"result\": \"45.00\",\n",
      "        \"reference_value\": \"40.00 - 50.00\",\n",
      "        \"unit\": \"%\"\n",
      "      },\n",
      "      \"RBC Count\": {\n",
      "        \"result\": \"4.50\",\n",
      "        \"reference_value\": \"4.50 - 5.50\",\n",
      "        \"unit\": \"milllmm3\"\n",
      "      },\n",
      "      \"MCV\": {\n",
      "        \"result\": \"90.00\",\n",
      "        \"reference_value\": \"83.00 - 101.00\",\n",
      "        \"unit\": \"fL\"\n",
      "      },\n",
      "      \"MCH\": {\n",
      "        \"result\": \"32.00\",\n",
      "        \"reference_value\": \"27.00 - 32.00\",\n",
      "        \"unit\": \"pg\"\n",
      "      },\n",
      "      \"MCHC\": {\n",
      "        \"result\": \"33.00\",\n",
      "        \"reference_value\": \"31.50 - 34.50\",\n",
      "        \"unit\": null\n",
      "      },\n",
      "      \"Red Cell Distribution Width (RDW)\": {\n",
      "        \"result\": \"14.00\",\n",
      "        \"reference_value\": \"11.60 - 14.00\",\n",
      "        \"unit\": null\n",
      "      },\n",
      "      \"Total Leukocyte Count (TLC)\": {\n",
      "        \"result\": \"8.00\",\n",
      "        \"reference_value\": \"4.00 - 10.00\",\n",
      "        \"unit\": \"thoulmm3\"\n",
      "      },\n",
      "      \"Differential Leucocyte Count (DLC)\": {\n",
      "        \"Segmented Neutrophils\": {\n",
      "          \"result\": \"60.00\",\n",
      "          \"reference_value\": \"40.00 - 80.00\",\n",
      "          \"unit\": \"%\"\n",
      "        },\n",
      "        \"Lymphocytes\": {\n",
      "          \"result\": \"30.00\",\n",
      "          \"reference_value\": \"20.00 - 40.00\",\n",
      "          \"unit\": \"%\"\n",
      "        },\n",
      "        \"Monocytes\": {\n",
      "          \"result\": \"5.00\",\n",
      "          \"reference_value\": \"2.00 - 10.00\",\n",
      "          \"unit\": \"%\"\n",
      "        },\n",
      "        \"Eosinophils\": {\n",
      "          \"result\": \"5.00\",\n",
      "          \"reference_value\": \"1.00 - 6.00\",\n",
      "          \"unit\": \"%\"\n",
      "        },\n",
      "        \"Basophils\": {\n",
      "          \"result\": \"0.00\",\n",
      "          \"reference_value\": \"<2.00\",\n",
      "          \"unit\": \"%\"\n",
      "        }\n",
      "      },\n",
      "      \"Absolute Leucocyte Count\\n(Calculated)\": {\n",
      "        \"Neutrophils\": {\n",
      "          \"result\": \"4.80\",\n",
      "          \"reference_value\": \"2.00 - 7.00\",\n",
      "          \"unit\": \"thoulmm3\"\n",
      "        },\n",
      "        \"Lymphocytes\": {\n",
      "          \"result\": \"2.40\",\n",
      "          \"reference_value\": \"1.00 - 3.00\",\n",
      "          \"unit\": \"thoulmm3\"\n",
      "        },\n",
      "        \"Monocytes\": {\n",
      "          \"result\": \"0.40\",\n",
      "          \"reference_value\": \"0.20 - 1.00\",\n",
      "          \"unit\": \"thoulmm3\"\n",
      "        },\n",
      "        \"Eosinophils\": {\n",
      "          \"result\": \"0.40\",\n",
      "          \"reference_value\": \"0.02 - 0.50\",\n",
      "          \"unit\": \"thoulmm3\"\n",
      "        },\n",
      "        \"Basophils\": {\n",
      "          \"result\": \"0.00\",\n",
      "          \"reference_value\": \"0.02 - 0.10\",\n",
      "          \"unit\": \"thoulmm3\"\n",
      "        }\n",
      "      },\n",
      "      \"Platelet Count\": {\n",
      "        \"result\": \"200\",\n",
      "        \"reference_value\": \"150.00 - 410.00\",\n",
      "        \"unit\": \"thoulmm3\"\n",
      "      },\n",
      "      \"Mean Platelet Volume\": {\n",
      "        \"result\": \"10.0\",\n",
      "        \"reference_value\": \"6.5 - 12.0\",\n",
      "        \"unit\": null\n",
      "      }\n",
      "    }\n",
      "  }\n",
      "}\n"
     ]
    }
   ],
   "source": [
    "result = model.generate_content(prompt).text\n",
    "print(result)"
   ]
  },
  {
   "cell_type": "code",
   "execution_count": null,
   "id": "14dee213",
   "metadata": {},
   "outputs": [],
   "source": []
  }
 ],
 "metadata": {
  "kernelspec": {
   "display_name": "Python 3 (ipykernel)",
   "language": "python",
   "name": "python3"
  },
  "language_info": {
   "codemirror_mode": {
    "name": "ipython",
    "version": 3
   },
   "file_extension": ".py",
   "mimetype": "text/x-python",
   "name": "python",
   "nbconvert_exporter": "python",
   "pygments_lexer": "ipython3",
   "version": "3.12.4"
  }
 },
 "nbformat": 4,
 "nbformat_minor": 5
}
