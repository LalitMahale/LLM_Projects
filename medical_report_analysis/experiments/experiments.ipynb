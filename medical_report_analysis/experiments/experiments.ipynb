{
 "cells": [
  {
   "cell_type": "code",
   "execution_count": 15,
   "id": "2a05ef4f",
   "metadata": {},
   "outputs": [],
   "source": [
    "# source of report https://drlogy.com/blog/blood-report-format#:~:text=Blood%20Report%20Format%20Examples%20&%20PDF.%2010%20Key%20Blood%20Report\n",
    "\n",
    "# https://cdn1.lalpathlabs.com/live/reports/WM17S.pdf#:~:text=Test%20Report%20Test%20Name%20Results%20Units%20Bio.%20Ref.%20Interval%20Note"
   ]
  },
  {
   "cell_type": "code",
   "execution_count": 7,
   "id": "950742b4",
   "metadata": {},
   "outputs": [
    {
     "name": "stderr",
     "output_type": "stream",
     "text": [
      "C:\\Users\\lalit\\anaconda3\\envs\\gen_ai\\Lib\\site-packages\\tqdm\\auto.py:21: TqdmWarning: IProgress not found. Please update jupyter and ipywidgets. See https://ipywidgets.readthedocs.io/en/stable/user_install.html\n",
      "  from .autonotebook import tqdm as notebook_tqdm\n"
     ]
    },
    {
     "data": {
      "text/plain": [
       "True"
      ]
     },
     "execution_count": 7,
     "metadata": {},
     "output_type": "execute_result"
    }
   ],
   "source": [
    "import os\n",
    "import google.generativeai as genai\n",
    "from PIL import Image\n",
    "from dotenv import load_dotenv\n",
    "load_dotenv()"
   ]
  },
  {
   "cell_type": "code",
   "execution_count": 8,
   "id": "ddb98dcb",
   "metadata": {},
   "outputs": [],
   "source": [
    "genai.configure(api_key=os.getenv(\"GOOGLE_API_KEY\"))\n",
    "model = genai.GenerativeModel(model_name=\"gemini-1.5-pro-001\")"
   ]
  },
  {
   "cell_type": "code",
   "execution_count": 3,
   "id": "675e0fa4",
   "metadata": {},
   "outputs": [
    {
     "name": "stdout",
     "output_type": "stream",
     "text": [
      "Collecting Pymupdf\n",
      "  Downloading PyMuPDF-1.24.11-cp38-abi3-win_amd64.whl.metadata (3.4 kB)\n",
      "Downloading PyMuPDF-1.24.11-cp38-abi3-win_amd64.whl (16.0 MB)\n",
      "   ---------------------------------------- 0.0/16.0 MB ? eta -:--:--\n",
      "   -------- ------------------------------- 3.4/16.0 MB 18.3 MB/s eta 0:00:01\n",
      "   ------------------- -------------------- 7.6/16.0 MB 18.8 MB/s eta 0:00:01\n",
      "   ---------------------------- ----------- 11.5/16.0 MB 18.5 MB/s eta 0:00:01\n",
      "   -------------------------------------- - 15.5/16.0 MB 18.0 MB/s eta 0:00:01\n",
      "   ---------------------------------------- 16.0/16.0 MB 17.3 MB/s eta 0:00:00\n",
      "Installing collected packages: Pymupdf\n",
      "Successfully installed Pymupdf-1.24.11\n",
      "Note: you may need to restart the kernel to use updated packages.\n"
     ]
    }
   ],
   "source": [
    "pip install Pymupdf"
   ]
  },
  {
   "cell_type": "code",
   "execution_count": 1,
   "id": "491691f7",
   "metadata": {},
   "outputs": [
    {
     "name": "stdout",
     "output_type": "stream",
     "text": [
      "C:\\Users\\lalit\\Desktop\\LLMProject\\LLM_projects\\medical_report_analysis\n"
     ]
    },
    {
     "name": "stderr",
     "output_type": "stream",
     "text": [
      "C:\\Users\\lalit\\anaconda3\\envs\\gen_ai\\Lib\\site-packages\\IPython\\core\\magics\\osm.py:417: UserWarning: This is now an optional IPython functionality, setting dhist requires you to install the `pickleshare` library.\n",
      "  self.shell.db['dhist'] = compress_dhist(dhist)[-100:]\n"
     ]
    }
   ],
   "source": [
    "%cd .."
   ]
  },
  {
   "cell_type": "code",
   "execution_count": 2,
   "id": "41fbe19a",
   "metadata": {},
   "outputs": [
    {
     "name": "stderr",
     "output_type": "stream",
     "text": [
      "C:\\Users\\lalit\\anaconda3\\envs\\gen_ai\\Lib\\site-packages\\tqdm\\auto.py:21: TqdmWarning: IProgress not found. Please update jupyter and ipywidgets. See https://ipywidgets.readthedocs.io/en/stable/user_install.html\n",
      "  from .autonotebook import tqdm as notebook_tqdm\n"
     ]
    }
   ],
   "source": [
    "from src.document import PDF_Processing\n",
    "from src.pipeline import LLM"
   ]
  },
  {
   "cell_type": "code",
   "execution_count": 3,
   "id": "36c98653",
   "metadata": {},
   "outputs": [],
   "source": [
    "filepath = \"test_images/WM17S.pdf\"\n",
    "image = PDF_Processing.pdf_to_image(file=filepath)"
   ]
  },
  {
   "cell_type": "code",
   "execution_count": 4,
   "id": "4e965020",
   "metadata": {},
   "outputs": [
    {
     "name": "stdout",
     "output_type": "stream",
     "text": [
      "gemini-1.5-pro-001\n"
     ]
    }
   ],
   "source": [
    "input_prompt=\"\"\"\n",
    "You are an expert in understanding Pictures. We will upload a a image \n",
    "and you will have to answer any questions based on the uploaded image\n",
    "\"\"\"\n",
    "file = r\"C:\\Users\\lalit\\Downloads\\4a79b38b-5cb2-4c87-b4f9-7c18fd615711.jpg\"\n",
    "# image = Image.open(file)\n",
    "query = \"what is in this image\"\n",
    "\n",
    "# response = model.generate_content([query,image,input_prompt])\n",
    "\n",
    "res = LLM().gemini_vision_llm([query,image,input_prompt])\n"
   ]
  },
  {
   "cell_type": "code",
   "execution_count": 5,
   "id": "5f0a277d",
   "metadata": {},
   "outputs": [
    {
     "data": {
      "text/plain": [
       "'The image is a blood test report from Dr Lal PathLabs, a medical laboratory in India. \\n\\nThe report shows various blood test parameters and their results, likely part of a \"SwasthFit Super 4\" test package.  Here\\'s a breakdown of the information visible:\\n\\n**Patient Information:**\\n\\n* **Name:** DUMMY \\n* **Lab No.:** 439854467\\n* **Ref By:** U\\n* **Collected:** 14/5/2023 11:03:00AM\\n* **A/c Status:** P\\n* **Collected at:** LPL-ROHINI (NATIONAL REFERENCE LAB)\\n* **Age:** 30 Years\\n* **Gender:** Male \\n* **Reported:** 16/5/2023 1:36:25PM\\n* **Report Status:** Final\\n* **Processed at:** LPL-NATIONAL REFERENCE LAB\\n\\n**Test Results:**\\n\\nThe report shows the results of a Complete Blood Count (CBC), with details on:\\n\\n* **Hemoglobin:**  Within the normal range.\\n* **Packed Cell Volume (PCV):**  Within the normal range.\\n* **RBC Count:** Within the normal range.\\n* **MCV:**  Within the normal range.\\n* **MCH:**  Within the normal range.\\n* **MCHC:**  Within the normal range.\\n* **Red Cell Distribution Width (RDW):** Within the normal range.\\n* **Total Leukocyte Count (TLC):** Within the normal range.\\n* **Differential Leukocyte Count (DLC):** All cell types within their respective normal ranges.\\n* **Absolute Leukocyte Count:**  All cell types within their respective normal ranges.\\n* **Platelet Count:** Within the normal range.\\n* **Mean Platelet Volume:** Within the normal range.\\n\\n**Important Note:**  I cannot provide medical interpretation of these results.  This information should be reviewed by a qualified healthcare professional. \\n'"
      ]
     },
     "execution_count": 5,
     "metadata": {},
     "output_type": "execute_result"
    }
   ],
   "source": [
    "res"
   ]
  },
  {
   "cell_type": "code",
   "execution_count": 11,
   "id": "cf05a564",
   "metadata": {},
   "outputs": [
    {
     "data": {
      "text/plain": [
       "'The image is a blood test report from Dr Lal PathLabs for a patient named \"DUMMY\". It shows the results of a \"SwasthFit Super 4\" test, which includes a complete blood count (CBC). \\n\\nThe report includes details such as:\\n\\n* **Patient Information:** Name, Lab No., Age, Gender\\n* **Sample Information:**  Collected date & time, Report date & time,  A/c Status\\n* **Test Results:** Detailed results for various blood components like Hemoglobin, RBC Count, WBC Count, Platelet count and more.  Each result is presented with the actual value, unit of measurement, and the biological reference interval.\\n\\nThe report also includes contact information for customer care in case of any alarming or unexpected results. \\n'"
      ]
     },
     "execution_count": 11,
     "metadata": {},
     "output_type": "execute_result"
    }
   ],
   "source": [
    "response.text"
   ]
  },
  {
   "cell_type": "code",
   "execution_count": null,
   "id": "31127216",
   "metadata": {},
   "outputs": [],
   "source": []
  }
 ],
 "metadata": {
  "kernelspec": {
   "display_name": "Python 3 (ipykernel)",
   "language": "python",
   "name": "python3"
  },
  "language_info": {
   "codemirror_mode": {
    "name": "ipython",
    "version": 3
   },
   "file_extension": ".py",
   "mimetype": "text/x-python",
   "name": "python",
   "nbconvert_exporter": "python",
   "pygments_lexer": "ipython3",
   "version": "3.12.4"
  }
 },
 "nbformat": 4,
 "nbformat_minor": 5
}
